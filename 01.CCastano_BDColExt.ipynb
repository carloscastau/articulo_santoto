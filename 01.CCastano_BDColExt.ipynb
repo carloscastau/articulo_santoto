{
 "cells": [
  {
   "cell_type": "markdown",
   "metadata": {},
   "source": [
    "# Extracción BD Colombianos registrados en el exterior"
   ]
  },
  {
   "cell_type": "code",
   "execution_count": 1,
   "metadata": {},
   "outputs": [],
   "source": [
    "#Importar Librerias necesarias\n",
    "import dotenv\n",
    "import os\n",
    "import pandas as pd\n",
    "import sodapy\n",
    "from sodapy import Socrata"
   ]
  },
  {
   "cell_type": "code",
   "execution_count": 2,
   "metadata": {},
   "outputs": [],
   "source": [
    "# Carga las variables de entorno\n",
    "dotenv.load_dotenv()\n",
    "\n",
    "# Obtiene el valor de la variable API_KEY\n",
    "api_key = os.getenv(\"API_KEY\")\n",
    "api_id = os.getenv(\"API_ID\")\n",
    "api_name = os.getenv(\"API_NAME\")\n",
    "\n",
    "# Example authenticated client (needed for non-public datasets):\n",
    "client = sodapy.Socrata(\"www.datos.gov.co\",\n",
    "                 api_name,\n",
    "                 username=api_id,\n",
    "                 password=api_key)"
   ]
  },
  {
   "cell_type": "code",
   "execution_count": 3,
   "metadata": {},
   "outputs": [],
   "source": [
    "# Unauthenticated client only works with public data sets. Note 'None'\n",
    "# in place of application token, and no username or password:\n",
    "# client = Socrata(\"www.datos.gov.co\", None)\n",
    "\n",
    "# Example authenticated client (needed for non-public datasets):\n",
    "client = Socrata(\"www.datos.gov.co\",\n",
    "                 api_name,\n",
    "                 username=api_id,\n",
    "                 password=api_key)\n",
    "\n",
    "# Parámetros de búsqueda\n",
    "dataset_id = \"y399-rzwf\"\n",
    "limit_per_request = 1000\n",
    "\n",
    "# Lista para almacenar los resultados\n",
    "all_results = []\n",
    "\n",
    "# Realiza solicitudes hasta que ya no haya más resultados\n",
    "offset = 0"
   ]
  },
  {
   "cell_type": "code",
   "execution_count": 4,
   "metadata": {},
   "outputs": [],
   "source": [
    "# # First 2000 results, returned as JSON from API / converted to Python list of\n",
    "# # dictionaries by sodapy.\n",
    "# results = client.get(\"y399-rzwf\", limit=2000)\n",
    "\n",
    "while True:\n",
    "    # Realiza una solicitud para obtener un lote de resultados\n",
    "    results = client.get(dataset_id, limit=limit_per_request, offset=offset)\n",
    "    \n",
    "    # Si no hay más resultados, detén el bucle\n",
    "    if not results:\n",
    "        break\n",
    "    \n",
    "    # Agrega los resultados al conjunto total\n",
    "    all_results.extend(results)\n",
    "    \n",
    "    # Actualiza el valor de offset para la próxima solicitud\n",
    "    offset += limit_per_request"
   ]
  },
  {
   "cell_type": "code",
   "execution_count": 5,
   "metadata": {},
   "outputs": [],
   "source": [
    "# Convierte los resultados en un DataFrame de pandas\n",
    "results_df = pd.DataFrame.from_records(all_results)"
   ]
  },
  {
   "cell_type": "code",
   "execution_count": 6,
   "metadata": {},
   "outputs": [],
   "source": [
    "results_df.to_csv('data/raw/out.csv', index=False)"
   ]
  },
  {
   "cell_type": "markdown",
   "metadata": {},
   "source": [
    "# Exploración"
   ]
  },
  {
   "cell_type": "code",
   "execution_count": 1,
   "metadata": {},
   "outputs": [],
   "source": [
    "import pandas as pd"
   ]
  },
  {
   "cell_type": "code",
   "execution_count": 2,
   "metadata": {},
   "outputs": [],
   "source": [
    "df = pd.read_csv('data/raw/out.csv')"
   ]
  },
  {
   "cell_type": "code",
   "execution_count": 3,
   "metadata": {},
   "outputs": [
    {
     "data": {
      "text/plain": [
       "Index(['pa_s', 'c_digo_iso_pa_s', 'oficina_de_registro', 'grupo_edad',\n",
       "       'edad_a_os', 'rea_conocimiento', 'sub_area_conocimiento',\n",
       "       'nivel_acad_mico', 'estado_civil', 'g_nero', 'etnia_de_la_persona',\n",
       "       'estatura_cm', 'localizaci_n', 'cantidad_de_personas'],\n",
       "      dtype='object')"
      ]
     },
     "execution_count": 3,
     "metadata": {},
     "output_type": "execute_result"
    }
   ],
   "source": [
    "df.columns"
   ]
  },
  {
   "cell_type": "code",
   "execution_count": 4,
   "metadata": {},
   "outputs": [
    {
     "data": {
      "text/plain": [
       "(708454, 14)"
      ]
     },
     "execution_count": 4,
     "metadata": {},
     "output_type": "execute_result"
    }
   ],
   "source": [
    "df.shape"
   ]
  },
  {
   "cell_type": "code",
   "execution_count": 5,
   "metadata": {},
   "outputs": [],
   "source": [
    "df.drop(columns=['c_digo_iso_pa_s',\n",
    "                'oficina_de_registro',\n",
    "                # 'estatura_cm',  Creo que esta no es relevante\n",
    "                'localizaci_n', \n",
    "                'cantidad_de_personas'], inplace=True)"
   ]
  },
  {
   "cell_type": "code",
   "execution_count": 6,
   "metadata": {},
   "outputs": [
    {
     "data": {
      "text/plain": [
       "Index(['pa_s', 'grupo_edad', 'edad_a_os', 'rea_conocimiento',\n",
       "       'sub_area_conocimiento', 'nivel_acad_mico', 'estado_civil', 'g_nero',\n",
       "       'etnia_de_la_persona', 'estatura_cm'],\n",
       "      dtype='object')"
      ]
     },
     "execution_count": 6,
     "metadata": {},
     "output_type": "execute_result"
    }
   ],
   "source": [
    "df.columns"
   ]
  },
  {
   "cell_type": "code",
   "execution_count": 7,
   "metadata": {},
   "outputs": [],
   "source": [
    "df = df.astype({'pa_s':'category', \n",
    "                'grupo_edad':'category', \n",
    "                'edad_a_os':'int', \n",
    "                'rea_conocimiento':'category',\n",
    "                'sub_area_conocimiento':'category', \n",
    "                'nivel_acad_mico':'category', \n",
    "                'estado_civil':'category', \n",
    "                'g_nero':'category',\n",
    "                'etnia_de_la_persona':'category', \n",
    "                'estatura_cm':'int'})"
   ]
  },
  {
   "cell_type": "code",
   "execution_count": 8,
   "metadata": {},
   "outputs": [
    {
     "data": {
      "text/plain": [
       "pa_s                     category\n",
       "grupo_edad               category\n",
       "edad_a_os                   int64\n",
       "rea_conocimiento         category\n",
       "sub_area_conocimiento    category\n",
       "nivel_acad_mico          category\n",
       "estado_civil             category\n",
       "g_nero                   category\n",
       "etnia_de_la_persona      category\n",
       "estatura_cm                 int64\n",
       "dtype: object"
      ]
     },
     "execution_count": 8,
     "metadata": {},
     "output_type": "execute_result"
    }
   ],
   "source": [
    "df.dtypes"
   ]
  },
  {
   "cell_type": "code",
   "execution_count": 9,
   "metadata": {},
   "outputs": [],
   "source": [
    "\n",
    "# Contar la frecuencia de cada categoría\n",
    "frequencies = df['pa_s'].value_counts()\n",
    "\n",
    "# Normalizar las categorías\n",
    "normalized_data = frequencies / frequencies.sum()"
   ]
  },
  {
   "cell_type": "code",
   "execution_count": 10,
   "metadata": {},
   "outputs": [],
   "source": [
    "df['pais_normalizada'] = df['pa_s'].map(normalized_data)"
   ]
  }
 ],
 "metadata": {
  "kernelspec": {
   "display_name": "venv",
   "language": "python",
   "name": "python3"
  },
  "language_info": {
   "codemirror_mode": {
    "name": "ipython",
    "version": 3
   },
   "file_extension": ".py",
   "mimetype": "text/x-python",
   "name": "python",
   "nbconvert_exporter": "python",
   "pygments_lexer": "ipython3",
   "version": "3.8.8"
  }
 },
 "nbformat": 4,
 "nbformat_minor": 2
}
